{
 "cells": [
  {
   "cell_type": "code",
   "execution_count": 1,
   "metadata": {},
   "outputs": [],
   "source": [
    "# Importing libraries\n",
    "import numpy as np\n",
    "import matplotlib.pyplot as plt"
   ]
  },
  {
   "cell_type": "markdown",
   "metadata": {},
   "source": [
    "Training data\n",
    "\n",
    "| Size (1000 sqft)     | Price (1000s of dollars) |\n",
    "| -------------------| ------------------------ |\n",
    "| 1.0               | 300                      |\n",
    "| 2.0               | 500                      |"
   ]
  },
  {
   "cell_type": "code",
   "execution_count": 2,
   "metadata": {},
   "outputs": [
    {
     "name": "stdout",
     "output_type": "stream",
     "text": [
      "Input features are [1 2]\n",
      "Target variables are [300 500]\n"
     ]
    }
   ],
   "source": [
    "# Defining training data\n",
    "\n",
    "x_train = np.array([1, 2])\n",
    "y_train = np.array([300, 500])\n",
    "\n",
    "print(f\"Input features are {x_train}\")\n",
    "print(f\"Target variables are {y_train}\")"
   ]
  },
  {
   "cell_type": "markdown",
   "metadata": {},
   "source": [
    "In order to predict the values, we need to fit a function f_wb for all values of training data\n",
    "\n",
    "Number of training examples are represented by m"
   ]
  },
  {
   "cell_type": "code",
   "execution_count": 4,
   "metadata": {},
   "outputs": [
    {
     "name": "stdout",
     "output_type": "stream",
     "text": [
      "Shape of training data is (2,)\n",
      "Total training examples are 2\n"
     ]
    }
   ],
   "source": [
    "print(f\"Shape of training data is {x_train.shape}\")\n",
    "m = x_train.shape[0]\n",
    "print(f\"Total training examples are {m}\")"
   ]
  },
  {
   "cell_type": "markdown",
   "metadata": {},
   "source": [
    "Plotting the training examples"
   ]
  },
  {
   "cell_type": "code",
   "execution_count": 7,
   "metadata": {},
   "outputs": [
    {
     "data": {
      "image/png": "[encoded data removed]",
      "text/plain": [
       "<Figure size 640x480 with 1 Axes>"
      ]
     },
     "metadata": {},
     "output_type": "display_data"
    }
   ],
   "source": [
    "plt.scatter(x_train, y_train, c=\"r\")\n",
    "\n",
    "plt.title(\"Housing Prices\")\n",
    "plt.xlabel(\"House area in Sq. ft (1000s)\")\n",
    "plt.ylabel(\"House prices in USD (1000s) \")\n",
    "\n",
    "plt.show()"
   ]
  },
  {
   "cell_type": "markdown",
   "metadata": {},
   "source": [
    "Now let's take random values of w and b to fit the function f_wb"
   ]
  },
  {
   "cell_type": "code",
   "execution_count": 8,
   "metadata": {},
   "outputs": [
    {
     "name": "stdout",
     "output_type": "stream",
     "text": [
      "w is 100\n",
      "b is 100\n"
     ]
    }
   ],
   "source": [
    "w = 100\n",
    "b = 100\n",
    "print(f\"w is {w}\")\n",
    "print(f\"b is {b}\")"
   ]
  },
  {
   "cell_type": "markdown",
   "metadata": {},
   "source": [
    "Now, let's compute the value of $f_{w,b}(x^{(i)})$"
   ]
  },
  {
   "cell_type": "code",
   "execution_count": 9,
   "metadata": {},
   "outputs": [],
   "source": [
    "def compute_model_output(x, w, b):\n",
    "    \"\"\"\n",
    "        Here x is the training examples array\n",
    "        w is the randomly chosen model parameter\n",
    "        b is the randomly chose model parameter\n",
    "    \"\"\"\n",
    "    m = x.shape[0]\n",
    "    f_wb = np.zeros(m)\n",
    "\n",
    "    for i in range(m):\n",
    "        f_wb[i] = w * x[i] + b\n",
    "    \n",
    "    return f_wb"
   ]
  },
  {
   "cell_type": "code",
   "execution_count": 12,
   "metadata": {},
   "outputs": [
    {
     "name": "stdout",
     "output_type": "stream",
     "text": [
      "Computet model output is [200. 300.]\n"
     ]
    }
   ],
   "source": [
    "f_wb = compute_model_output(x_train, w, b)\n",
    "\n",
    "print(f\"Computet model output is {f_wb}\")"
   ]
  },
  {
   "cell_type": "markdown",
   "metadata": {},
   "source": [
    "Let's try to find better values of w and b to reduce the error"
   ]
  },
  {
   "cell_type": "code",
   "execution_count": 22,
   "metadata": {},
   "outputs": [
    {
     "name": "stdout",
     "output_type": "stream",
     "text": [
      "w: 2, b: 2\n",
      "Error is [300. 500.]\n",
      "w: 4, b: 4\n",
      "Error is [296. 494.]\n",
      "w: 6, b: 6\n",
      "Error is [292. 488.]\n",
      "w: 8, b: 8\n",
      "Error is [288. 482.]\n",
      "w: 10, b: 10\n",
      "Error is [284. 476.]\n",
      "w: 12, b: 12\n",
      "Error is [280. 470.]\n",
      "w: 14, b: 14\n",
      "Error is [276. 464.]\n",
      "w: 16, b: 16\n",
      "Error is [272. 458.]\n",
      "w: 18, b: 18\n",
      "Error is [268. 452.]\n",
      "w: 20, b: 20\n",
      "Error is [264. 446.]\n",
      "w: 22, b: 22\n",
      "Error is [260. 440.]\n",
      "w: 24, b: 24\n",
      "Error is [256. 434.]\n",
      "w: 26, b: 26\n",
      "Error is [252. 428.]\n",
      "w: 28, b: 28\n",
      "Error is [248. 422.]\n",
      "w: 30, b: 30\n",
      "Error is [244. 416.]\n",
      "w: 32, b: 32\n",
      "Error is [240. 410.]\n",
      "w: 34, b: 34\n",
      "Error is [236. 404.]\n",
      "w: 36, b: 36\n",
      "Error is [232. 398.]\n",
      "w: 38, b: 38\n",
      "Error is [228. 392.]\n",
      "w: 40, b: 40\n",
      "Error is [224. 386.]\n",
      "w: 42, b: 42\n",
      "Error is [220. 380.]\n",
      "w: 44, b: 44\n",
      "Error is [216. 374.]\n",
      "w: 46, b: 46\n",
      "Error is [212. 368.]\n",
      "w: 48, b: 48\n",
      "Error is [208. 362.]\n",
      "w: 50, b: 50\n",
      "Error is [204. 356.]\n",
      "w: 52, b: 52\n",
      "Error is [200. 350.]\n",
      "w: 54, b: 54\n",
      "Error is [196. 344.]\n",
      "w: 56, b: 56\n",
      "Error is [192. 338.]\n",
      "w: 58, b: 58\n",
      "Error is [188. 332.]\n",
      "w: 60, b: 60\n",
      "Error is [184. 326.]\n",
      "w: 62, b: 62\n",
      "Error is [180. 320.]\n",
      "w: 64, b: 64\n",
      "Error is [176. 314.]\n",
      "w: 66, b: 66\n",
      "Error is [172. 308.]\n",
      "w: 68, b: 68\n",
      "Error is [168. 302.]\n",
      "w: 70, b: 70\n",
      "Error is [164. 296.]\n",
      "w: 72, b: 72\n",
      "Error is [160. 290.]\n",
      "w: 74, b: 74\n",
      "Error is [156. 284.]\n",
      "w: 76, b: 76\n",
      "Error is [152. 278.]\n",
      "w: 78, b: 78\n",
      "Error is [148. 272.]\n",
      "w: 80, b: 80\n",
      "Error is [144. 266.]\n",
      "w: 82, b: 82\n",
      "Error is [140. 260.]\n",
      "w: 84, b: 84\n",
      "Error is [136. 254.]\n",
      "w: 86, b: 86\n",
      "Error is [132. 248.]\n",
      "w: 88, b: 88\n",
      "Error is [128. 242.]\n",
      "w: 90, b: 90\n",
      "Error is [124. 236.]\n",
      "w: 92, b: 92\n",
      "Error is [120. 230.]\n",
      "w: 94, b: 94\n",
      "Error is [116. 224.]\n",
      "w: 96, b: 96\n",
      "Error is [112. 218.]\n",
      "w: 98, b: 98\n",
      "Error is [108. 212.]\n",
      "w: 100, b: 100\n",
      "Error is [104. 206.]\n",
      "w: 102, b: 102\n",
      "Error is [100. 200.]\n",
      "w: 104, b: 104\n",
      "Error is [ 96. 194.]\n",
      "w: 106, b: 106\n",
      "Error is [ 92. 188.]\n",
      "w: 108, b: 108\n",
      "Error is [ 88. 182.]\n",
      "w: 110, b: 110\n",
      "Error is [ 84. 176.]\n",
      "w: 112, b: 112\n",
      "Error is [ 80. 170.]\n",
      "w: 114, b: 114\n",
      "Error is [ 76. 164.]\n",
      "w: 116, b: 116\n",
      "Error is [ 72. 158.]\n",
      "w: 118, b: 118\n",
      "Error is [ 68. 152.]\n",
      "w: 120, b: 120\n",
      "Error is [ 64. 146.]\n",
      "w: 122, b: 122\n",
      "Error is [ 60. 140.]\n",
      "w: 124, b: 124\n",
      "Error is [ 56. 134.]\n",
      "w: 126, b: 126\n",
      "Error is [ 52. 128.]\n",
      "w: 128, b: 128\n",
      "Error is [ 48. 122.]\n",
      "w: 130, b: 130\n",
      "Error is [ 44. 116.]\n",
      "w: 132, b: 132\n",
      "Error is [ 40. 110.]\n",
      "w: 134, b: 134\n",
      "Error is [ 36. 104.]\n",
      "w: 136, b: 136\n",
      "Error is [32. 98.]\n",
      "w: 138, b: 138\n",
      "Error is [28. 92.]\n",
      "w: 140, b: 140\n",
      "Error is [24. 86.]\n",
      "w: 142, b: 142\n",
      "Error is [20. 80.]\n",
      "w: 144, b: 144\n",
      "Error is [16. 74.]\n",
      "w: 146, b: 146\n",
      "Error is [12. 68.]\n",
      "w: 148, b: 148\n",
      "Error is [ 8. 62.]\n",
      "w: 150, b: 150\n",
      "Error is [ 4. 56.]\n",
      "w: 152, b: 152\n",
      "Error is [ 0. 50.]\n",
      "w: 154, b: 154\n",
      "Error is [-4. 44.]\n",
      "Best w and b are w: 154, b: 154\n"
     ]
    }
   ],
   "source": [
    "error = np.zeros(2)\n",
    "error.fill(10000000)\n",
    "w = 0\n",
    "b = 0\n",
    "\n",
    "while (error.sum() > 40):\n",
    "    f_wb = compute_model_output(x_train, w, b)\n",
    "\n",
    "    w += 2\n",
    "    b += 2\n",
    "    error = y_train - f_wb\n",
    "\n",
    "    print(f\"w: {w}, b: {b}\")\n",
    "    print(f\"Error is {error}\")\n",
    "\n",
    "\n",
    "print(f\"Best w and b are w: {w}, b: {b}\")"
   ]
  },
  {
   "cell_type": "code",
   "execution_count": 23,
   "metadata": {},
   "outputs": [
    {
     "name": "stdout",
     "output_type": "stream",
     "text": [
      "Best f_wb is [308. 462.]\n"
     ]
    }
   ],
   "source": [
    "f_wb = compute_model_output(x_train, w, b)\n",
    "print(f\"Best f_wb is {f_wb}\")"
   ]
  },
  {
   "cell_type": "code",
   "execution_count": 25,
   "metadata": {},
   "outputs": [
    {
     "data": {
      "image/png": "[encoded data removed]",
      "text/plain": [
       "<Figure size 640x480 with 1 Axes>"
      ]
     },
     "metadata": {},
     "output_type": "display_data"
    }
   ],
   "source": [
    "plt.plot(x_train, f_wb, c=\"b\", label=\"Our prediction\")\n",
    "\n",
    "plt.scatter(x_train, y_train, c=\"r\", label=\"Actual values\")\n",
    "\n",
    "plt.title(\"Housing Prices\")\n",
    "plt.xlabel(\"House area in Sq. ft (1000s)\")\n",
    "plt.ylabel(\"House prices in USD (1000s) \")\n",
    "\n",
    "plt.show()"
   ]
  },
  {
   "cell_type": "code",
   "execution_count": 26,
   "metadata": {},
   "outputs": [
    {
     "name": "stdout",
     "output_type": "stream",
     "text": [
      "Best f_wb is [300. 500.]\n"
     ]
    }
   ],
   "source": [
    "w= 200\n",
    "b = 100\n",
    "\n",
    "f_wb = compute_model_output(x_train, w, b)\n",
    "print(f\"Best f_wb is {f_wb}\")"
   ]
  },
  {
   "cell_type": "code",
   "execution_count": 29,
   "metadata": {},
   "outputs": [
    {
     "data": {
      "image/png": "[encoded data removed]",
      "text/plain": [
       "<Figure size 640x480 with 1 Axes>"
      ]
     },
     "metadata": {},
     "output_type": "display_data"
    }
   ],
   "source": [
    "plt.plot(x_train, f_wb, c=\"b\", label=\"Our prediction\")\n",
    "\n",
    "plt.scatter(x_train, y_train, c=\"r\", label=\"Actual values\")\n",
    "\n",
    "plt.title(\"Housing Prices\")\n",
    "plt.xlabel(\"House area in Sq. ft (1000s)\")\n",
    "plt.ylabel(\"House prices in USD (1000s) \")\n",
    "\n",
    "plt.show()"
   ]
  },
  {
   "cell_type": "code",
   "execution_count": 31,
   "metadata": {},
   "outputs": [
    {
     "name": "stdout",
     "output_type": "stream",
     "text": [
      "Predicted house price is [340.] is 1000s of USD\n"
     ]
    }
   ],
   "source": [
    "# Lets take new data point of x = 1.2 (1200 square feet)\n",
    "x = np.array([1.2])\n",
    "f_wb = compute_model_output(x, w, b)\n",
    "print(f\"Predicted house price is {f_wb} is 1000s of USD\")"
   ]
  }
 ],
 "metadata": {
  "kernelspec": {
   "display_name": ".venv",
   "language": "python",
   "name": "python3"
  },
  "language_info": {
   "codemirror_mode": {
    "name": "ipython",
    "version": 3
   },
   "file_extension": ".py",
   "mimetype": "text/x-python",
   "name": "python",
   "nbconvert_exporter": "python",
   "pygments_lexer": "ipython3",
   "version": "3.12.4"
  }
 },
 "nbformat": 4,
 "nbformat_minor": 2
}
